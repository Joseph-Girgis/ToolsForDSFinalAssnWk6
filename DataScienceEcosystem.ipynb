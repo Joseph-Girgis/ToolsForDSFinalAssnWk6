{
 "cells": [
  {
   "cell_type": "markdown",
   "id": "ce3b8d34-eaea-4077-90da-e9e4a18663dd",
   "metadata": {},
   "source": [
    "# Data Science Tools and Ecosystem"
   ]
  },
  {
   "cell_type": "markdown",
   "id": "5d8aefd0-0d39-4783-9b2c-415ae9e6e687",
   "metadata": {
    "tags": []
   },
   "source": [
    "#### In this notebook, Data Science Tools and Ecosystem are summarized"
   ]
  },
  {
   "cell_type": "markdown",
   "id": "b26307dd-fee4-4ebd-aaae-2e4bd910e661",
   "metadata": {},
   "source": [
    "**Objectives**\n",
    "\n",
    "- Learning Popular languages for data science\n",
    "- Learning Popular tools for data science\n",
    "- Learning Popular libraries for data science\n",
    "- Creating a Jupyter Notebook file"
   ]
  },
  {
   "cell_type": "markdown",
   "id": "b446dc27-deec-422c-ad09-e7e5139f9d5d",
   "metadata": {},
   "source": [
    "Some of the popular languages that Data Scientists use are:\n",
    "1. Julia\n",
    "2. Python\n",
    "3. R\n"
   ]
  },
  {
   "cell_type": "markdown",
   "id": "47563b48-0b5e-4932-82f0-f4fb36a363b3",
   "metadata": {},
   "source": [
    "Some of the commonly used libraries used by Data Scientists include:\n",
    "\n",
    "1. TensorFlow\n",
    "2. Numpy\n",
    "3. Pandas"
   ]
  },
  {
   "cell_type": "markdown",
   "id": "e9ba6076-e69e-4419-bb3f-25502c79df98",
   "metadata": {},
   "source": [
    "#### Execute as a markdown cell\n",
    "\n",
    "| Data Science Tools |\n",
    "| -------------|\n",
    "| Python\n",
    "| Tableau\n",
    "| MATLAB"
   ]
  },
  {
   "cell_type": "markdown",
   "id": "d9c38cbd-6123-4871-8dab-9feaa15a5542",
   "metadata": {},
   "source": [
    "### Below are a few examples of evaluating arithmetic expressions in Python\n",
    "\n",
    "|Arithmetic|\n",
    "|-----------|\n",
    "| 1 + 1\n",
    "| 2 - 4\n",
    "| 5 * 7"
   ]
  },
  {
   "cell_type": "code",
   "execution_count": 7,
   "id": "e2ab2739-ee44-4ff7-8761-2cc91fbb4420",
   "metadata": {},
   "outputs": [
    {
     "data": {
      "text/plain": [
       "17"
      ]
     },
     "execution_count": 7,
     "metadata": {},
     "output_type": "execute_result"
    }
   ],
   "source": [
    "#simple arithmetic expression multiplying and then adding values\n",
    "\n",
    "(3*4)+5"
   ]
  },
  {
   "cell_type": "code",
   "execution_count": 9,
   "id": "c5561caf-0b78-4f6e-bc80-1ef4d018d5af",
   "metadata": {},
   "outputs": [
    {
     "data": {
      "text/plain": [
       "3.3333333333333335"
      ]
     },
     "execution_count": 9,
     "metadata": {},
     "output_type": "execute_result"
    }
   ],
   "source": [
    "#This will convert 200 minutes to hours by dividing by 60\n",
    "\n",
    "200/60"
   ]
  },
  {
   "cell_type": "markdown",
   "id": "f27de80c-4850-46c2-ad8e-de8909dd411b",
   "metadata": {},
   "source": [
    "## Author ##\n",
    "Joseph G"
   ]
  },
  {
   "cell_type": "code",
   "execution_count": 10,
   "id": "708d2c7e-bcec-489c-a3d6-e47f48ec44e4",
   "metadata": {},
   "outputs": [
    {
     "data": {
      "text/plain": [
       "'C:\\\\Users\\\\joegi'"
      ]
     },
     "execution_count": 10,
     "metadata": {},
     "output_type": "execute_result"
    }
   ],
   "source": [
    "pwd"
   ]
  },
  {
   "cell_type": "code",
   "execution_count": null,
   "id": "0cb1ad69-02bb-407a-8713-8fc369a4b929",
   "metadata": {},
   "outputs": [],
   "source": []
  }
 ],
 "metadata": {
  "kernelspec": {
   "display_name": "Python 3 (ipykernel)",
   "language": "python",
   "name": "python3"
  },
  "language_info": {
   "codemirror_mode": {
    "name": "ipython",
    "version": 3
   },
   "file_extension": ".py",
   "mimetype": "text/x-python",
   "name": "python",
   "nbconvert_exporter": "python",
   "pygments_lexer": "ipython3",
   "version": "3.10.9"
  }
 },
 "nbformat": 4,
 "nbformat_minor": 5
}
